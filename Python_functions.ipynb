{
  "nbformat": 4,
  "nbformat_minor": 0,
  "metadata": {
    "colab": {
      "name": "Python functions.ipynb",
      "provenance": [],
      "authorship_tag": "ABX9TyPk7axXoHWS31pgZxuImIZd",
      "include_colab_link": true
    },
    "kernelspec": {
      "name": "python3",
      "display_name": "Python 3"
    }
  },
  "cells": [
    {
      "cell_type": "markdown",
      "metadata": {
        "id": "view-in-github",
        "colab_type": "text"
      },
      "source": [
        "<a href=\"https://colab.research.google.com/github/anandmech/Python-Functions/blob/master/Python_functions.ipynb\" target=\"_parent\"><img src=\"https://colab.research.google.com/assets/colab-badge.svg\" alt=\"Open In Colab\"/></a>"
      ]
    },
    {
      "cell_type": "code",
      "metadata": {
        "id": "KqqqmbZIl1jT",
        "colab_type": "code",
        "colab": {}
      },
      "source": [
        ""
      ],
      "execution_count": null,
      "outputs": []
    },
    {
      "cell_type": "markdown",
      "metadata": {
        "id": "MfnD4JtHmZBD",
        "colab_type": "text"
      },
      "source": [
        "**Dictionary** = Create key values\n",
        "**NoSQL**(Not only structred query language) = Language used to work with unstructured data\n",
        "**No SQL Softwares** = Mongodb, Cassandra, Redis, Amazon Dynamo DB\n",
        "**SQL(Structured Query Language)** = Language used to work with structured data\n",
        "**SQL Softwares** = Postgre SQL, Microsoft SQL, MySQL, SQLLite\n",
        "**Loops** = Perform tasks over and over again\n",
        "**Range** = Outputs an ordered Sequence as a list"
      ]
    },
    {
      "cell_type": "code",
      "metadata": {
        "id": "IN6dqqhRoiIA",
        "colab_type": "code",
        "colab": {}
      },
      "source": [
        "# def keyword signifies that a function is about to be defined\n",
        "# Next is the function name\n",
        "# Next is what is called a parameter within the ()\n",
        "# Now the : provides a line of code making up the main body of the function\n",
        "# Return button ends the statement\n",
        "# Next is the functions parameter list which are the parameters inside the function when the function is ran\n",
        "# In our example our body is just one line of code: return number_of_shoes *3\n",
        "# I choose 3 because I have 3 pairs of shoes\n",
        "def shoes(number_of_shoes):\n",
        "  return number_of_shoes *3"
      ],
      "execution_count": 2,
      "outputs": []
    },
    {
      "cell_type": "code",
      "metadata": {
        "id": "RKCec2jSqvD9",
        "colab_type": "code",
        "colab": {}
      },
      "source": [
        "shoe_prices = {\n",
        "    'Nike': 50,\n",
        "    'Reebok': 100,\n",
        "    'Puma': 200,\n",
        "}"
      ],
      "execution_count": 10,
      "outputs": []
    },
    {
      "cell_type": "code",
      "metadata": {
        "id": "eXavmy7YrJyc",
        "colab_type": "code",
        "colab": {}
      },
      "source": [
        "def prices(shoe_brands):\n",
        "  if shoe_brands in shoe_prices:\n",
        "    return 'The shoe price for {} is ${}'. format(shoe_brands, shoe_prices[shoe_brands])"
      ],
      "execution_count": 12,
      "outputs": []
    },
    {
      "cell_type": "code",
      "metadata": {
        "id": "0ZjvFlpio1Jd",
        "colab_type": "code",
        "colab": {
          "base_uri": "https://localhost:8080/",
          "height": 35
        },
        "outputId": "ad79f6ad-a301-42c0-ba3e-2b1d07b1b228"
      },
      "source": [
        "prices('Nike')"
      ],
      "execution_count": 13,
      "outputs": [
        {
          "output_type": "execute_result",
          "data": {
            "application/vnd.google.colaboratory.intrinsic+json": {
              "type": "string"
            },
            "text/plain": [
              "'The shoe price for Nike is $50'"
            ]
          },
          "metadata": {
            "tags": []
          },
          "execution_count": 13
        }
      ]
    },
    {
      "cell_type": "code",
      "metadata": {
        "id": "CoEff73PsXmG",
        "colab_type": "code",
        "colab": {}
      },
      "source": [
        "def prices(shoe_brands):\n",
        "  if shoe_brands in shoe_prices:\n",
        "    return 'The shoe price for {} is ${}'. format(shoe_brands, shoe_prices[shoe_brands])\n",
        "  else:\n",
        "    return 'The shoe price for {} is not available'. format(shoe_brands)"
      ],
      "execution_count": 15,
      "outputs": []
    },
    {
      "cell_type": "code",
      "metadata": {
        "id": "jcETJhH6spvu",
        "colab_type": "code",
        "colab": {}
      },
      "source": [
        "prices(\"puma\")"
      ],
      "execution_count": null,
      "outputs": []
    },
    {
      "cell_type": "code",
      "metadata": {
        "id": "i4zYHnYts-Zb",
        "colab_type": "code",
        "colab": {}
      },
      "source": [
        "def prices(shoe_brands):\n",
        "  return 'The price for {} is {}'. format(shoe_brands, shoe_prices.get(shoe_brands, 'not available'))"
      ],
      "execution_count": null,
      "outputs": []
    },
    {
      "cell_type": "code",
      "metadata": {
        "id": "Euuot_qMtVNh",
        "colab_type": "code",
        "colab": {}
      },
      "source": [
        "prices('puma')"
      ],
      "execution_count": null,
      "outputs": []
    },
    {
      "cell_type": "code",
      "metadata": {
        "id": "UweUgTCotYUE",
        "colab_type": "code",
        "colab": {}
      },
      "source": [
        "'puma' in shoe_prices"
      ],
      "execution_count": null,
      "outputs": []
    },
    {
      "cell_type": "code",
      "metadata": {
        "id": "RwTFf_sGtcE6",
        "colab_type": "code",
        "colab": {}
      },
      "source": [
        "len (shoe_prices)"
      ],
      "execution_count": null,
      "outputs": []
    },
    {
      "cell_type": "code",
      "metadata": {
        "id": "sDtq5yAYtfGS",
        "colab_type": "code",
        "colab": {}
      },
      "source": [
        "list(shoe_prices.keys())"
      ],
      "execution_count": null,
      "outputs": []
    },
    {
      "cell_type": "code",
      "metadata": {
        "id": "rYLdyu-ctk-W",
        "colab_type": "code",
        "colab": {}
      },
      "source": [
        "list(shoe_pricesvalues())"
      ],
      "execution_count": null,
      "outputs": []
    },
    {
      "cell_type": "code",
      "metadata": {
        "id": "yzp-6EJbtrWI",
        "colab_type": "code",
        "colab": {}
      },
      "source": [
        "# the .clear() empties out our dictionary\n",
        "shoe_prices.clear()"
      ],
      "execution_count": null,
      "outputs": []
    }
  ]
}